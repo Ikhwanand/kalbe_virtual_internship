{
 "cells": [
  {
   "cell_type": "markdown",
   "metadata": {},
   "source": [
    "# Clustering Customer Segmentation"
   ]
  },
  {
   "cell_type": "markdown",
   "metadata": {},
   "source": [
    "Hints\n",
    "Machine Learning Clustering\n",
    "* Tujuan dari pembuatan model machine learning ini\n",
    "adalah untuk dapat membuat cluster\n",
    "customer-customer yang mirip\n",
    "* Data cleansing terlebih dahulu, merubah tipe data\n",
    "supaya sesuai\n",
    "* Data merge untuk menggabungkan semua data\n",
    "* Membuat data baru untuk clustering, yaitu groupby by\n",
    "customerID lalu yang di aggregasi adalah :\n",
    "    - Transaction id count\n",
    "    - Qty sum\n",
    "    - Total amount sum\n",
    "* Menggunakan metode clustering KMeans\n",
    "* Untuk proses queri data, dapat memilih alternatif\n",
    "pemrograman yang sesuai preferensi kamu.\n",
    "* Sedangkan untuk proses machine learning, Kamu\n",
    "diperbolehkan memilih dan menggunakan satu bahasa\n",
    "pemrograman di antara R dan Python untuk\n",
    "membantumu mengerjakan Final Project.\n",
    "* (Untuk Proses Queri Database) Pengumpulan tugas\n",
    "dalam bentuk format file SQL script yang berisi\n",
    "perintah-perintah SQL secara berurutan yang nantinya\n",
    "dapat dieksekusi untuk memperoleh hasil yang\n",
    "diinginkan"
   ]
  },
  {
   "cell_type": "code",
   "execution_count": 74,
   "metadata": {},
   "outputs": [],
   "source": [
    "import pandas as pd \n",
    "import numpy as np  \n",
    "import matplotlib.pyplot as plt   \n",
    "import seaborn as sns  \n",
    "%matplotlib inline  \n",
    "import sketch\n",
    "import plotly.express as px\n",
    "pd.set_option('display.max_columns', 50)\n"
   ]
  },
  {
   "cell_type": "code",
   "execution_count": 25,
   "metadata": {},
   "outputs": [],
   "source": [
    "data = pd.read_csv('./data./Transaction.csv', sep=';', parse_dates=['Date'], dayfirst=True)"
   ]
  },
  {
   "cell_type": "markdown",
   "metadata": {},
   "source": [
    "Data tidak perlu di bersihkan karena dataset ini sudah bersih"
   ]
  },
  {
   "cell_type": "code",
   "execution_count": 32,
   "metadata": {},
   "outputs": [],
   "source": [
    "df_model = data.groupby('CustomerID')[['TransactionID', 'Qty', 'TotalAmount']].agg({'TransactionID':'count', 'Qty':'sum', 'TotalAmount':'sum'}).reset_index()"
   ]
  },
  {
   "cell_type": "code",
   "execution_count": 33,
   "metadata": {},
   "outputs": [
    {
     "data": {
      "text/html": [
       "<div>\n",
       "<style scoped>\n",
       "    .dataframe tbody tr th:only-of-type {\n",
       "        vertical-align: middle;\n",
       "    }\n",
       "\n",
       "    .dataframe tbody tr th {\n",
       "        vertical-align: top;\n",
       "    }\n",
       "\n",
       "    .dataframe thead th {\n",
       "        text-align: right;\n",
       "    }\n",
       "</style>\n",
       "<table border=\"1\" class=\"dataframe\">\n",
       "  <thead>\n",
       "    <tr style=\"text-align: right;\">\n",
       "      <th></th>\n",
       "      <th>CustomerID</th>\n",
       "      <th>TransactionID</th>\n",
       "      <th>Qty</th>\n",
       "      <th>TotalAmount</th>\n",
       "    </tr>\n",
       "  </thead>\n",
       "  <tbody>\n",
       "    <tr>\n",
       "      <th>0</th>\n",
       "      <td>1</td>\n",
       "      <td>17</td>\n",
       "      <td>60</td>\n",
       "      <td>623300</td>\n",
       "    </tr>\n",
       "    <tr>\n",
       "      <th>1</th>\n",
       "      <td>2</td>\n",
       "      <td>13</td>\n",
       "      <td>57</td>\n",
       "      <td>392300</td>\n",
       "    </tr>\n",
       "    <tr>\n",
       "      <th>2</th>\n",
       "      <td>3</td>\n",
       "      <td>15</td>\n",
       "      <td>56</td>\n",
       "      <td>446200</td>\n",
       "    </tr>\n",
       "    <tr>\n",
       "      <th>3</th>\n",
       "      <td>4</td>\n",
       "      <td>10</td>\n",
       "      <td>46</td>\n",
       "      <td>302500</td>\n",
       "    </tr>\n",
       "    <tr>\n",
       "      <th>4</th>\n",
       "      <td>5</td>\n",
       "      <td>7</td>\n",
       "      <td>27</td>\n",
       "      <td>268600</td>\n",
       "    </tr>\n",
       "  </tbody>\n",
       "</table>\n",
       "</div>"
      ],
      "text/plain": [
       "   CustomerID  TransactionID  Qty  TotalAmount\n",
       "0           1             17   60       623300\n",
       "1           2             13   57       392300\n",
       "2           3             15   56       446200\n",
       "3           4             10   46       302500\n",
       "4           5              7   27       268600"
      ]
     },
     "execution_count": 33,
     "metadata": {},
     "output_type": "execute_result"
    }
   ],
   "source": [
    "df_model.head()"
   ]
  },
  {
   "cell_type": "code",
   "execution_count": 35,
   "metadata": {},
   "outputs": [
    {
     "data": {
      "text/plain": [
       "447"
      ]
     },
     "execution_count": 35,
     "metadata": {},
     "output_type": "execute_result"
    }
   ],
   "source": [
    "df_model['CustomerID'].nunique()"
   ]
  },
  {
   "cell_type": "markdown",
   "metadata": {},
   "source": [
    "Total customer sebanyak 447 customer"
   ]
  },
  {
   "cell_type": "markdown",
   "metadata": {},
   "source": [
    "# Clustering using Skicit learn"
   ]
  },
  {
   "cell_type": "code",
   "execution_count": 47,
   "metadata": {},
   "outputs": [
    {
     "data": {
      "image/png": "[encoded data removed]",
      "text/plain": [
       "<Figure size 432x288 with 1 Axes>"
      ]
     },
     "metadata": {
      "needs_background": "light"
     },
     "output_type": "display_data"
    }
   ],
   "source": [
    "from sklearn.cluster import KMeans\n",
    "from sklearn.preprocessing import StandardScaler\n",
    "\n",
    "# Check for missing values and handle them accordingly\n",
    "df_model.dropna(inplace=True)\n",
    "\n",
    "features = ['Qty', 'TotalAmount']\n",
    "# Normalize your data using StandardScaler\n",
    "scaler = StandardScaler()\n",
    "scaled_data = scaler.fit_transform(df_model[features].values)\n",
    "\n",
    "inertias = [KMeans(n_clusters=i).fit(scaled_data).inertia_ for i in range(1, 11)]\n",
    "\n",
    "plt.plot(range(1, 11), inertias, 'o-r')\n",
    "plt.xlabel('Number of Clusters')\n",
    "plt.ylabel('Inertia')\n",
    "plt.title('Elbow Method')\n",
    "plt.show()"
   ]
  },
  {
   "cell_type": "code",
   "execution_count": 66,
   "metadata": {},
   "outputs": [
    {
     "data": {
      "image/png": "[encoded data removed]",
      "text/plain": [
       "<Figure size 432x288 with 1 Axes>"
      ]
     },
     "metadata": {
      "needs_background": "light"
     },
     "output_type": "display_data"
    }
   ],
   "source": [
    "kmeans = KMeans(n_clusters=4, random_state=0, init='random')\n",
    "\n",
    "kmeans.fit(scaled_data)\n",
    "\n",
    "df_model['Cluster_label'] = kmeans.labels_\n",
    "\n",
    "centroids = kmeans.cluster_centers_\n",
    "labels = kmeans.labels_\n",
    "\n",
    "# plot the centroids on a scatter plot\n",
    "plt.scatter(df_model.loc[:, 'TotalAmount'].values, df_model.loc[:, 'Qty'].values, c=labels)\n",
    "plt.scatter(centroids[:, 0], centroids[:, 1], marker='*', s=300, c='red')\n",
    "plt.title('K-means Clustering')\n",
    "plt.xlabel('Total Amount')\n",
    "plt.ylabel('Qty')\n",
    "plt.show()"
   ]
  },
  {
   "cell_type": "code",
   "execution_count": 62,
   "metadata": {},
   "outputs": [],
   "source": [
    "df_model['Cluster_label'] = df_model['Cluster_label'].apply(lambda x: f'Cluster {x}')"
   ]
  },
  {
   "cell_type": "code",
   "execution_count": 63,
   "metadata": {},
   "outputs": [
    {
     "data": {
      "text/html": [
       "<div>\n",
       "<style scoped>\n",
       "    .dataframe tbody tr th:only-of-type {\n",
       "        vertical-align: middle;\n",
       "    }\n",
       "\n",
       "    .dataframe tbody tr th {\n",
       "        vertical-align: top;\n",
       "    }\n",
       "\n",
       "    .dataframe thead th {\n",
       "        text-align: right;\n",
       "    }\n",
       "</style>\n",
       "<table border=\"1\" class=\"dataframe\">\n",
       "  <thead>\n",
       "    <tr style=\"text-align: right;\">\n",
       "      <th></th>\n",
       "      <th>CustomerID</th>\n",
       "      <th>TransactionID</th>\n",
       "      <th>Qty</th>\n",
       "      <th>TotalAmount</th>\n",
       "      <th>Cluster_label</th>\n",
       "    </tr>\n",
       "  </thead>\n",
       "  <tbody>\n",
       "    <tr>\n",
       "      <th>0</th>\n",
       "      <td>1</td>\n",
       "      <td>17</td>\n",
       "      <td>60</td>\n",
       "      <td>623300</td>\n",
       "      <td>Cluster 2</td>\n",
       "    </tr>\n",
       "    <tr>\n",
       "      <th>1</th>\n",
       "      <td>2</td>\n",
       "      <td>13</td>\n",
       "      <td>57</td>\n",
       "      <td>392300</td>\n",
       "      <td>Cluster 1</td>\n",
       "    </tr>\n",
       "    <tr>\n",
       "      <th>2</th>\n",
       "      <td>3</td>\n",
       "      <td>15</td>\n",
       "      <td>56</td>\n",
       "      <td>446200</td>\n",
       "      <td>Cluster 1</td>\n",
       "    </tr>\n",
       "    <tr>\n",
       "      <th>3</th>\n",
       "      <td>4</td>\n",
       "      <td>10</td>\n",
       "      <td>46</td>\n",
       "      <td>302500</td>\n",
       "      <td>Cluster 0</td>\n",
       "    </tr>\n",
       "    <tr>\n",
       "      <th>4</th>\n",
       "      <td>5</td>\n",
       "      <td>7</td>\n",
       "      <td>27</td>\n",
       "      <td>268600</td>\n",
       "      <td>Cluster 3</td>\n",
       "    </tr>\n",
       "  </tbody>\n",
       "</table>\n",
       "</div>"
      ],
      "text/plain": [
       "   CustomerID  TransactionID  Qty  TotalAmount Cluster_label\n",
       "0           1             17   60       623300     Cluster 2\n",
       "1           2             13   57       392300     Cluster 1\n",
       "2           3             15   56       446200     Cluster 1\n",
       "3           4             10   46       302500     Cluster 0\n",
       "4           5              7   27       268600     Cluster 3"
      ]
     },
     "execution_count": 63,
     "metadata": {},
     "output_type": "execute_result"
    }
   ],
   "source": [
    "df_model.head()"
   ]
  },
  {
   "cell_type": "code",
   "execution_count": 67,
   "metadata": {},
   "outputs": [
    {
     "data": {
      "text/plain": [
       "array([2, 1, 0, 3])"
      ]
     },
     "execution_count": 67,
     "metadata": {},
     "output_type": "execute_result"
    }
   ],
   "source": [
    "df_model.Cluster_label.unique()"
   ]
  },
  {
   "cell_type": "markdown",
   "metadata": {},
   "source": [
    "ada 4 jenis customer yang kita klusterkan"
   ]
  },
  {
   "cell_type": "code",
   "execution_count": 73,
   "metadata": {},
   "outputs": [
    {
     "data": {
      "image/png": "[encoded data removed]",
      "text/plain": [
       "<Figure size 648x432 with 1 Axes>"
      ]
     },
     "metadata": {
      "needs_background": "light"
     },
     "output_type": "display_data"
    }
   ],
   "source": [
    "sns.scatterplot(data=df_model, x='TotalAmount', y='Qty', hue='Cluster_label', palette='RdBu')\n",
    "plt.gcf().set_size_inches(9, 6)\n",
    "plt.show()"
   ]
  },
  {
   "cell_type": "code",
   "execution_count": 75,
   "metadata": {},
   "outputs": [
    {
     "data": {
      "application/vnd.plotly.v1+json": {
       "config": {
        "plotlyServerURL": "https://plot.ly"
       },
       "data": [
        {
         "hovertemplate": "TotalAmount=%{x}<br>Qty=%{y}<br>Cluster_label=%{marker.color}<extra></extra>",
         "legendgroup": "",
         "marker": {
          "color": [
           2,
           1,
           1,
           0,
           3,
           1,
           2,
           2,
           1,
           1,
           3,
           2,
           2,
           0,
           1,
           1,
           0,
           1,
           2,
           2,
           0,
           1,
           2,
           1,
           3,
           0,
           0,
           0,
           2,
           0,
           0,
           0,
           3,
           1,
           0,
           0,
           2,
           0,
           1,
           0,
           3,
           1,
           2,
           2,
           2,
           1,
           2,
           1,
           0,
           3,
           1,
           0,
           0,
           1,
           0,
           3,
           1,
           1,
           3,
           1,
           0,
           1,
           2,
           0,
           3,
           1,
           1,
           3,
           1,
           0,
           0,
           2,
           2,
           3,
           0,
           1,
           1,
           0,
           3,
           0,
           0,
           0,
           1,
           2,
           1,
           0,
           1,
           2,
           2,
           0,
           0,
           1,
           1,
           0,
           1,
           1,
           0,
           0,
           0,
           0,
           1,
           1,
           0,
           3,
           2,
           2,
           1,
           1,
           0,
           3,
           3,
           2,
           3,
           1,
           2,
           1,
           0,
           1,
           1,
           1,
           1,
           0,
           0,
           1,
           3,
           3,
           1,
           0,
           1,
           0,
           1,
           1,
           2,
           0,
           1,
           3,
           2,
           1,
           0,
           0,
           0,
           1,
           0,
           3,
           3,
           3,
           1,
           3,
           1,
           2,
           0,
           1,
           3,
           0,
           1,
           2,
           2,
           2,
           0,
           1,
           0,
           0,
           0,
           0,
           1,
           2,
           2,
           1,
           1,
           3,
           2,
           2,
           0,
           1,
           0,
           0,
           1,
           1,
           3,
           3,
           0,
           0,
           0,
           2,
           3,
           1,
           1,
           0,
           2,
           0,
           0,
           3,
           0,
           3,
           1,
           0,
           0,
           1,
           1,
           3,
           1,
           0,
           1,
           1,
           0,
           1,
           0,
           3,
           0,
           2,
           0,
           0,
           1,
           0,
           1,
           0,
           2,
           1,
           2,
           0,
           0,
           2,
           0,
           0,
           0,
           0,
           3,
           0,
           1,
           0,
           1,
           0,
           2,
           2,
           2,
           0,
           1,
           0,
           1,
           2,
           0,
           3,
           1,
           0,
           2,
           1,
           1,
           0,
           0,
           0,
           0,
           0,
           0,
           0,
           3,
           1,
           0,
           0,
           3,
           2,
           3,
           3,
           2,
           1,
           3,
           0,
           1,
           1,
           1,
           2,
           0,
           2,
           1,
           0,
           0,
           2,
           2,
           1,
           1,
           1,
           2,
           1,
           2,
           1,
           0,
           3,
           0,
           0,
           1,
           3,
           3,
           3,
           0,
           0,
           1,
           0,
           0,
           1,
           2,
           3,
           2,
           0,
           2,
           0,
           0,
           1,
           1,
           0,
           0,
           2,
           2,
           0,
           3,
           3,
           1,
           3,
           1,
           3,
           2,
           3,
           2,
           0,
           0,
           3,
           3,
           2,
           0,
           0,
           2,
           0,
           0,
           0,
           3,
           3,
           0,
           1,
           3,
           0,
           1,
           1,
           1,
           1,
           0,
           3,
           0,
           3,
           1,
           2,
           3,
           1,
           3,
           1,
           0,
           0,
           0,
           2,
           2,
           1,
           3,
           0,
           0,
           1,
           1,
           1,
           2,
           1,
           3,
           3,
           1,
           2,
           3,
           0,
           3,
           1,
           0,
           1,
           0,
           1,
           1,
           1,
           3,
           3,
           3,
           2,
           3,
           0,
           3,
           3,
           3,
           3,
           1,
           2,
           1,
           0,
           0,
           3,
           3,
           0,
           0,
           0,
           1,
           3,
           1,
           1,
           3,
           3,
           3,
           1,
           1,
           0,
           3,
           3,
           1,
           1,
           0,
           2,
           2,
           3,
           3,
           3,
           0,
           2,
           2,
           1,
           3,
           3,
           2,
           0,
           1,
           2,
           0,
           3,
           0,
           2,
           1,
           0,
           3,
           1,
           3,
           1,
           3,
           0,
           2,
           2,
           2,
           1,
           1
          ],
          "coloraxis": "coloraxis",
          "symbol": "circle"
         },
         "mode": "markers",
         "name": "",
         "orientation": "v",
         "showlegend": false,
         "type": "scatter",
         "x": [
          623300,
          392300,
          446200,
          302500,
          268600,
          459100,
          498800,
          542100,
          349200,
          478000,
          247300,
          582500,
          669000,
          398500,
          406800,
          375600,
          356600,
          455900,
          574600,
          528500,
          299900,
          404500,
          506500,
          377000,
          92100,
          233600,
          328400,
          328600,
          448900,
          319800,
          355800,
          360400,
          196900,
          493200,
          247800,
          312400,
          625100,
          296800,
          422400,
          298200,
          205800,
          420400,
          539200,
          543800,
          553500,
          495200,
          551300,
          342200,
          328800,
          210800,
          439600,
          321400,
          336000,
          393500,
          310400,
          218800,
          405300,
          384500,
          141600,
          408600,
          245400,
          442200,
          563300,
          267900,
          216800,
          423000,
          442600,
          246500,
          352400,
          323600,
          268600,
          667000,
          503700,
          181600,
          356000,
          462700,
          403600,
          245200,
          157800,
          319200,
          329300,
          386300,
          383800,
          470800,
          421200,
          319600,
          394400,
          627400,
          760600,
          367800,
          282800,
          365000,
          390700,
          275800,
          410200,
          355100,
          329500,
          362500,
          316400,
          272400,
          439600,
          423300,
          318200,
          156200,
          513400,
          555300,
          516600,
          398400,
          278600,
          223400,
          228000,
          530300,
          206400,
          484000,
          497000,
          383800,
          280700,
          463000,
          380400,
          502600,
          444000,
          278100,
          304100,
          440200,
          137000,
          183400,
          512400,
          294600,
          387400,
          314400,
          462800,
          438300,
          524400,
          384600,
          388400,
          283500,
          443700,
          410300,
          290000,
          311300,
          364000,
          364000,
          259700,
          246200,
          174000,
          206500,
          393700,
          193800,
          406300,
          497600,
          351100,
          444200,
          203400,
          325500,
          425000,
          583100,
          588100,
          486900,
          311400,
          406200,
          340600,
          317900,
          334000,
          296700,
          318600,
          644200,
          600400,
          370400,
          356000,
          235300,
          576500,
          540900,
          349600,
          437600,
          304800,
          258200,
          367200,
          389300,
          170200,
          188200,
          309600,
          276800,
          302200,
          676200,
          181900,
          354000,
          472600,
          301800,
          565600,
          381900,
          365600,
          195900,
          257600,
          166200,
          387500,
          263400,
          263100,
          381400,
          476200,
          183200,
          341400,
          311000,
          414700,
          382400,
          250000,
          414000,
          278800,
          121400,
          343800,
          570600,
          317800,
          263700,
          391400,
          334300,
          362300,
          275600,
          486100,
          405200,
          514100,
          271100,
          361100,
          491700,
          396600,
          303400,
          310600,
          381600,
          154600,
          329000,
          400700,
          256200,
          453500,
          335600,
          634700,
          502900,
          475700,
          363800,
          455200,
          264600,
          411000,
          524300,
          299200,
          156100,
          439400,
          341400,
          578400,
          450600,
          433800,
          294600,
          282800,
          297800,
          306400,
          278000,
          316500,
          316000,
          141700,
          412800,
          370200,
          294200,
          107600,
          588800,
          220200,
          165200,
          622600,
          489200,
          232800,
          292500,
          378000,
          424400,
          362300,
          527100,
          297200,
          491000,
          392000,
          257600,
          294600,
          488000,
          574000,
          406900,
          376400,
          405100,
          499700,
          472400,
          499400,
          385200,
          277000,
          238200,
          322600,
          340800,
          392800,
          175400,
          203200,
          183000,
          294400,
          258800,
          423600,
          277000,
          292400,
          395000,
          584200,
          215100,
          615300,
          304100,
          548100,
          395600,
          275600,
          475200,
          372900,
          340000,
          259300,
          455200,
          472000,
          302900,
          233100,
          273200,
          395500,
          231400,
          366600,
          232900,
          452600,
          242200,
          529200,
          341000,
          214800,
          249300,
          243200,
          550200,
          355700,
          252600,
          526800,
          349400,
          304200,
          258000,
          232500,
          189600,
          315000,
          407300,
          144300,
          305200,
          416200,
          425200,
          405000,
          434900,
          276400,
          172200,
          308800,
          256800,
          436800,
          496700,
          175000,
          346500,
          264600,
          340800,
          322700,
          286800,
          329200,
          526900,
          487800,
          413100,
          236700,
          352300,
          349100,
          383600,
          369000,
          382600,
          846700,
          471000,
          144600,
          267400,
          471100,
          564800,
          164400,
          315200,
          262800,
          470200,
          292400,
          415600,
          301100,
          379700,
          363000,
          356700,
          233800,
          243900,
          237000,
          662200,
          142400,
          311100,
          161000,
          191300,
          201400,
          205800,
          375400,
          751400,
          449600,
          317800,
          274100,
          263700,
          237000,
          296700,
          269300,
          241000,
          402400,
          188800,
          331400,
          443200,
          212200,
          237100,
          243400,
          452000,
          384100,
          254000,
          251800,
          229000,
          417100,
          440200,
          352400,
          511200,
          615800,
          215200,
          228900,
          211000,
          292300,
          534500,
          614600,
          463800,
          223800,
          171600,
          574800,
          292500,
          354200,
          501600,
          359900,
          199400,
          351200,
          509900,
          425500,
          348400,
          222800,
          457200,
          113800,
          395200,
          115200,
          269400,
          485100,
          577700,
          587200,
          423300,
          439300
         ],
         "xaxis": "x",
         "y": [
          60,
          57,
          56,
          46,
          27,
          44,
          57,
          47,
          44,
          50,
          28,
          61,
          68,
          35,
          44,
          50,
          41,
          44,
          63,
          53,
          35,
          43,
          55,
          42,
          10,
          34,
          32,
          34,
          63,
          40,
          36,
          35,
          25,
          51,
          35,
          32,
          72,
          33,
          51,
          30,
          24,
          38,
          57,
          71,
          54,
          49,
          57,
          45,
          35,
          20,
          45,
          37,
          43,
          40,
          42,
          20,
          40,
          41,
          20,
          37,
          39,
          52,
          56,
          40,
          33,
          41,
          57,
          28,
          44,
          38,
          29,
          65,
          61,
          21,
          37,
          51,
          40,
          33,
          17,
          31,
          32,
          32,
          49,
          62,
          49,
          41,
          41,
          62,
          79,
          38,
          32,
          53,
          43,
          29,
          43,
          44,
          36,
          34,
          33,
          35,
          44,
          57,
          31,
          17,
          53,
          64,
          46,
          54,
          36,
          25,
          25,
          54,
          30,
          52,
          58,
          39,
          31,
          46,
          43,
          50,
          52,
          35,
          44,
          53,
          17,
          25,
          46,
          30,
          41,
          36,
          53,
          44,
          56,
          36,
          43,
          27,
          62,
          44,
          38,
          38,
          39,
          42,
          31,
          27,
          26,
          26,
          42,
          24,
          38,
          54,
          38,
          50,
          17,
          42,
          42,
          61,
          65,
          59,
          29,
          46,
          30,
          34,
          34,
          40,
          51,
          66,
          65,
          50,
          43,
          22,
          68,
          50,
          33,
          48,
          30,
          36,
          47,
          52,
          26,
          19,
          41,
          30,
          40,
          64,
          24,
          51,
          44,
          37,
          73,
          36,
          37,
          21,
          37,
          20,
          45,
          33,
          31,
          51,
          42,
          22,
          45,
          40,
          43,
          40,
          31,
          44,
          42,
          24,
          39,
          58,
          40,
          31,
          44,
          41,
          46,
          37,
          57,
          54,
          58,
          33,
          37,
          58,
          35,
          38,
          29,
          37,
          19,
          33,
          48,
          35,
          49,
          35,
          65,
          51,
          68,
          33,
          45,
          36,
          38,
          55,
          45,
          20,
          37,
          43,
          72,
          48,
          45,
          33,
          39,
          34,
          37,
          35,
          30,
          37,
          16,
          45,
          37,
          34,
          22,
          54,
          28,
          15,
          60,
          46,
          17,
          40,
          47,
          35,
          50,
          49,
          42,
          58,
          54,
          46,
          37,
          54,
          51,
          48,
          40,
          44,
          59,
          52,
          61,
          47,
          42,
          27,
          31,
          35,
          41,
          22,
          26,
          16,
          42,
          35,
          54,
          37,
          39,
          51,
          52,
          27,
          53,
          30,
          68,
          33,
          36,
          51,
          40,
          36,
          35,
          58,
          57,
          42,
          29,
          22,
          39,
          28,
          42,
          26,
          57,
          26,
          57,
          38,
          34,
          30,
          31,
          47,
          37,
          35,
          63,
          42,
          29,
          37,
          30,
          29,
          37,
          43,
          18,
          42,
          45,
          42,
          42,
          54,
          30,
          27,
          38,
          26,
          50,
          58,
          26,
          44,
          28,
          46,
          42,
          32,
          33,
          57,
          53,
          36,
          31,
          33,
          37,
          45,
          53,
          39,
          75,
          41,
          18,
          22,
          51,
          55,
          13,
          33,
          25,
          53,
          41,
          54,
          45,
          45,
          49,
          44,
          22,
          25,
          24,
          65,
          19,
          42,
          20,
          30,
          34,
          22,
          40,
          71,
          53,
          26,
          41,
          28,
          30,
          38,
          37,
          36,
          52,
          24,
          46,
          53,
          26,
          29,
          26,
          48,
          44,
          33,
          22,
          28,
          42,
          39,
          41,
          62,
          71,
          31,
          29,
          30,
          28,
          66,
          62,
          51,
          25,
          26,
          55,
          41,
          43,
          53,
          40,
          18,
          32,
          57,
          52,
          41,
          28,
          47,
          26,
          40,
          13,
          37,
          59,
          62,
          68,
          42,
          42
         ],
         "yaxis": "y"
        }
       ],
       "layout": {
        "coloraxis": {
         "colorbar": {
          "title": {
           "text": "Cluster_label"
          }
         },
         "colorscale": [
          [
           0,
           "#0d0887"
          ],
          [
           0.1111111111111111,
           "#46039f"
          ],
          [
           0.2222222222222222,
           "#7201a8"
          ],
          [
           0.3333333333333333,
           "#9c179e"
          ],
          [
           0.4444444444444444,
           "#bd3786"
          ],
          [
           0.5555555555555556,
           "#d8576b"
          ],
          [
           0.6666666666666666,
           "#ed7953"
          ],
          [
           0.7777777777777778,
           "#fb9f3a"
          ],
          [
           0.8888888888888888,
           "#fdca26"
          ],
          [
           1,
           "#f0f921"
          ]
         ]
        },
        "legend": {
         "tracegroupgap": 0
        },
        "template": {
         "data": {
          "bar": [
           {
            "error_x": {
             "color": "#f2f5fa"
            },
            "error_y": {
             "color": "#f2f5fa"
            },
            "marker": {
             "line": {
              "color": "rgb(17,17,17)",
              "width": 0.5
             },
             "pattern": {
              "fillmode": "overlay",
              "size": 10,
              "solidity": 0.2
             }
            },
            "type": "bar"
           }
          ],
          "barpolar": [
           {
            "marker": {
             "line": {
              "color": "rgb(17,17,17)",
              "width": 0.5
             },
             "pattern": {
              "fillmode": "overlay",
              "size": 10,
              "solidity": 0.2
             }
            },
            "type": "barpolar"
           }
          ],
          "carpet": [
           {
            "aaxis": {
             "endlinecolor": "#A2B1C6",
             "gridcolor": "#506784",
             "linecolor": "#506784",
             "minorgridcolor": "#506784",
             "startlinecolor": "#A2B1C6"
            },
            "baxis": {
             "endlinecolor": "#A2B1C6",
             "gridcolor": "#506784",
             "linecolor": "#506784",
             "minorgridcolor": "#506784",
             "startlinecolor": "#A2B1C6"
            },
            "type": "carpet"
           }
          ],
          "choropleth": [
           {
            "colorbar": {
             "outlinewidth": 0,
             "ticks": ""
            },
            "type": "choropleth"
           }
          ],
          "contour": [
           {
            "colorbar": {
             "outlinewidth": 0,
             "ticks": ""
            },
            "colorscale": [
             [
              0,
              "#0d0887"
             ],
             [
              0.1111111111111111,
              "#46039f"
             ],
             [
              0.2222222222222222,
              "#7201a8"
             ],
             [
              0.3333333333333333,
              "#9c179e"
             ],
             [
              0.4444444444444444,
              "#bd3786"
             ],
             [
              0.5555555555555556,
              "#d8576b"
             ],
             [
              0.6666666666666666,
              "#ed7953"
             ],
             [
              0.7777777777777778,
              "#fb9f3a"
             ],
             [
              0.8888888888888888,
              "#fdca26"
             ],
             [
              1,
              "#f0f921"
             ]
            ],
            "type": "contour"
           }
          ],
          "contourcarpet": [
           {
            "colorbar": {
             "outlinewidth": 0,
             "ticks": ""
            },
            "type": "contourcarpet"
           }
          ],
          "heatmap": [
           {
            "colorbar": {
             "outlinewidth": 0,
             "ticks": ""
            },
            "colorscale": [
             [
              0,
              "#0d0887"
             ],
             [
              0.1111111111111111,
              "#46039f"
             ],
             [
              0.2222222222222222,
              "#7201a8"
             ],
             [
              0.3333333333333333,
              "#9c179e"
             ],
             [
              0.4444444444444444,
              "#bd3786"
             ],
             [
              0.5555555555555556,
              "#d8576b"
             ],
             [
              0.6666666666666666,
              "#ed7953"
             ],
             [
              0.7777777777777778,
              "#fb9f3a"
             ],
             [
              0.8888888888888888,
              "#fdca26"
             ],
             [
              1,
              "#f0f921"
             ]
            ],
            "type": "heatmap"
           }
          ],
          "heatmapgl": [
           {
            "colorbar": {
             "outlinewidth": 0,
             "ticks": ""
            },
            "colorscale": [
             [
              0,
              "#0d0887"
             ],
             [
              0.1111111111111111,
              "#46039f"
             ],
             [
              0.2222222222222222,
              "#7201a8"
             ],
             [
              0.3333333333333333,
              "#9c179e"
             ],
             [
              0.4444444444444444,
              "#bd3786"
             ],
             [
              0.5555555555555556,
              "#d8576b"
             ],
             [
              0.6666666666666666,
              "#ed7953"
             ],
             [
              0.7777777777777778,
              "#fb9f3a"
             ],
             [
              0.8888888888888888,
              "#fdca26"
             ],
             [
              1,
              "#f0f921"
             ]
            ],
            "type": "heatmapgl"
           }
          ],
          "histogram": [
           {
            "marker": {
             "pattern": {
              "fillmode": "overlay",
              "size": 10,
              "solidity": 0.2
             }
            },
            "type": "histogram"
           }
          ],
          "histogram2d": [
           {
            "colorbar": {
             "outlinewidth": 0,
             "ticks": ""
            },
            "colorscale": [
             [
              0,
              "#0d0887"
             ],
             [
              0.1111111111111111,
              "#46039f"
             ],
             [
              0.2222222222222222,
              "#7201a8"
             ],
             [
              0.3333333333333333,
              "#9c179e"
             ],
             [
              0.4444444444444444,
              "#bd3786"
             ],
             [
              0.5555555555555556,
              "#d8576b"
             ],
             [
              0.6666666666666666,
              "#ed7953"
             ],
             [
              0.7777777777777778,
              "#fb9f3a"
             ],
             [
              0.8888888888888888,
              "#fdca26"
             ],
             [
              1,
              "#f0f921"
             ]
            ],
            "type": "histogram2d"
           }
          ],
          "histogram2dcontour": [
           {
            "colorbar": {
             "outlinewidth": 0,
             "ticks": ""
            },
            "colorscale": [
             [
              0,
              "#0d0887"
             ],
             [
              0.1111111111111111,
              "#46039f"
             ],
             [
              0.2222222222222222,
              "#7201a8"
             ],
             [
              0.3333333333333333,
              "#9c179e"
             ],
             [
              0.4444444444444444,
              "#bd3786"
             ],
             [
              0.5555555555555556,
              "#d8576b"
             ],
             [
              0.6666666666666666,
              "#ed7953"
             ],
             [
              0.7777777777777778,
              "#fb9f3a"
             ],
             [
              0.8888888888888888,
              "#fdca26"
             ],
             [
              1,
              "#f0f921"
             ]
            ],
            "type": "histogram2dcontour"
           }
          ],
          "mesh3d": [
           {
            "colorbar": {
             "outlinewidth": 0,
             "ticks": ""
            },
            "type": "mesh3d"
           }
          ],
          "parcoords": [
           {
            "line": {
             "colorbar": {
              "outlinewidth": 0,
              "ticks": ""
             }
            },
            "type": "parcoords"
           }
          ],
          "pie": [
           {
            "automargin": true,
            "type": "pie"
           }
          ],
          "scatter": [
           {
            "marker": {
             "line": {
              "color": "#283442"
             }
            },
            "type": "scatter"
           }
          ],
          "scatter3d": [
           {
            "line": {
             "colorbar": {
              "outlinewidth": 0,
              "ticks": ""
             }
            },
            "marker": {
             "colorbar": {
              "outlinewidth": 0,
              "ticks": ""
             }
            },
            "type": "scatter3d"
           }
          ],
          "scattercarpet": [
           {
            "marker": {
             "colorbar": {
              "outlinewidth": 0,
              "ticks": ""
             }
            },
            "type": "scattercarpet"
           }
          ],
          "scattergeo": [
           {
            "marker": {
             "colorbar": {
              "outlinewidth": 0,
              "ticks": ""
             }
            },
            "type": "scattergeo"
           }
          ],
          "scattergl": [
           {
            "marker": {
             "line": {
              "color": "#283442"
             }
            },
            "type": "scattergl"
           }
          ],
          "scattermapbox": [
           {
            "marker": {
             "colorbar": {
              "outlinewidth": 0,
              "ticks": ""
             }
            },
            "type": "scattermapbox"
           }
          ],
          "scatterpolar": [
           {
            "marker": {
             "colorbar": {
              "outlinewidth": 0,
              "ticks": ""
             }
            },
            "type": "scatterpolar"
           }
          ],
          "scatterpolargl": [
           {
            "marker": {
             "colorbar": {
              "outlinewidth": 0,
              "ticks": ""
             }
            },
            "type": "scatterpolargl"
           }
          ],
          "scatterternary": [
           {
            "marker": {
             "colorbar": {
              "outlinewidth": 0,
              "ticks": ""
             }
            },
            "type": "scatterternary"
           }
          ],
          "surface": [
           {
            "colorbar": {
             "outlinewidth": 0,
             "ticks": ""
            },
            "colorscale": [
             [
              0,
              "#0d0887"
             ],
             [
              0.1111111111111111,
              "#46039f"
             ],
             [
              0.2222222222222222,
              "#7201a8"
             ],
             [
              0.3333333333333333,
              "#9c179e"
             ],
             [
              0.4444444444444444,
              "#bd3786"
             ],
             [
              0.5555555555555556,
              "#d8576b"
             ],
             [
              0.6666666666666666,
              "#ed7953"
             ],
             [
              0.7777777777777778,
              "#fb9f3a"
             ],
             [
              0.8888888888888888,
              "#fdca26"
             ],
             [
              1,
              "#f0f921"
             ]
            ],
            "type": "surface"
           }
          ],
          "table": [
           {
            "cells": {
             "fill": {
              "color": "#506784"
             },
             "line": {
              "color": "rgb(17,17,17)"
             }
            },
            "header": {
             "fill": {
              "color": "#2a3f5f"
             },
             "line": {
              "color": "rgb(17,17,17)"
             }
            },
            "type": "table"
           }
          ]
         },
         "layout": {
          "annotationdefaults": {
           "arrowcolor": "#f2f5fa",
           "arrowhead": 0,
           "arrowwidth": 1
          },
          "autotypenumbers": "strict",
          "coloraxis": {
           "colorbar": {
            "outlinewidth": 0,
            "ticks": ""
           }
          },
          "colorscale": {
           "diverging": [
            [
             0,
             "#8e0152"
            ],
            [
             0.1,
             "#c51b7d"
            ],
            [
             0.2,
             "#de77ae"
            ],
            [
             0.3,
             "#f1b6da"
            ],
            [
             0.4,
             "#fde0ef"
            ],
            [
             0.5,
             "#f7f7f7"
            ],
            [
             0.6,
             "#e6f5d0"
            ],
            [
             0.7,
             "#b8e186"
            ],
            [
             0.8,
             "#7fbc41"
            ],
            [
             0.9,
             "#4d9221"
            ],
            [
             1,
             "#276419"
            ]
           ],
           "sequential": [
            [
             0,
             "#0d0887"
            ],
            [
             0.1111111111111111,
             "#46039f"
            ],
            [
             0.2222222222222222,
             "#7201a8"
            ],
            [
             0.3333333333333333,
             "#9c179e"
            ],
            [
             0.4444444444444444,
             "#bd3786"
            ],
            [
             0.5555555555555556,
             "#d8576b"
            ],
            [
             0.6666666666666666,
             "#ed7953"
            ],
            [
             0.7777777777777778,
             "#fb9f3a"
            ],
            [
             0.8888888888888888,
             "#fdca26"
            ],
            [
             1,
             "#f0f921"
            ]
           ],
           "sequentialminus": [
            [
             0,
             "#0d0887"
            ],
            [
             0.1111111111111111,
             "#46039f"
            ],
            [
             0.2222222222222222,
             "#7201a8"
            ],
            [
             0.3333333333333333,
             "#9c179e"
            ],
            [
             0.4444444444444444,
             "#bd3786"
            ],
            [
             0.5555555555555556,
             "#d8576b"
            ],
            [
             0.6666666666666666,
             "#ed7953"
            ],
            [
             0.7777777777777778,
             "#fb9f3a"
            ],
            [
             0.8888888888888888,
             "#fdca26"
            ],
            [
             1,
             "#f0f921"
            ]
           ]
          },
          "colorway": [
           "#636efa",
           "#EF553B",
           "#00cc96",
           "#ab63fa",
           "#FFA15A",
           "#19d3f3",
           "#FF6692",
           "#B6E880",
           "#FF97FF",
           "#FECB52"
          ],
          "font": {
           "color": "#f2f5fa"
          },
          "geo": {
           "bgcolor": "rgb(17,17,17)",
           "lakecolor": "rgb(17,17,17)",
           "landcolor": "rgb(17,17,17)",
           "showlakes": true,
           "showland": true,
           "subunitcolor": "#506784"
          },
          "hoverlabel": {
           "align": "left"
          },
          "hovermode": "closest",
          "mapbox": {
           "style": "dark"
          },
          "paper_bgcolor": "rgb(17,17,17)",
          "plot_bgcolor": "rgb(17,17,17)",
          "polar": {
           "angularaxis": {
            "gridcolor": "#506784",
            "linecolor": "#506784",
            "ticks": ""
           },
           "bgcolor": "rgb(17,17,17)",
           "radialaxis": {
            "gridcolor": "#506784",
            "linecolor": "#506784",
            "ticks": ""
           }
          },
          "scene": {
           "xaxis": {
            "backgroundcolor": "rgb(17,17,17)",
            "gridcolor": "#506784",
            "gridwidth": 2,
            "linecolor": "#506784",
            "showbackground": true,
            "ticks": "",
            "zerolinecolor": "#C8D4E3"
           },
           "yaxis": {
            "backgroundcolor": "rgb(17,17,17)",
            "gridcolor": "#506784",
            "gridwidth": 2,
            "linecolor": "#506784",
            "showbackground": true,
            "ticks": "",
            "zerolinecolor": "#C8D4E3"
           },
           "zaxis": {
            "backgroundcolor": "rgb(17,17,17)",
            "gridcolor": "#506784",
            "gridwidth": 2,
            "linecolor": "#506784",
            "showbackground": true,
            "ticks": "",
            "zerolinecolor": "#C8D4E3"
           }
          },
          "shapedefaults": {
           "line": {
            "color": "#f2f5fa"
           }
          },
          "sliderdefaults": {
           "bgcolor": "#C8D4E3",
           "bordercolor": "rgb(17,17,17)",
           "borderwidth": 1,
           "tickwidth": 0
          },
          "ternary": {
           "aaxis": {
            "gridcolor": "#506784",
            "linecolor": "#506784",
            "ticks": ""
           },
           "baxis": {
            "gridcolor": "#506784",
            "linecolor": "#506784",
            "ticks": ""
           },
           "bgcolor": "rgb(17,17,17)",
           "caxis": {
            "gridcolor": "#506784",
            "linecolor": "#506784",
            "ticks": ""
           }
          },
          "title": {
           "x": 0.05
          },
          "updatemenudefaults": {
           "bgcolor": "#506784",
           "borderwidth": 0
          },
          "xaxis": {
           "automargin": true,
           "gridcolor": "#283442",
           "linecolor": "#506784",
           "ticks": "",
           "title": {
            "standoff": 15
           },
           "zerolinecolor": "#283442",
           "zerolinewidth": 2
          },
          "yaxis": {
           "automargin": true,
           "gridcolor": "#283442",
           "linecolor": "#506784",
           "ticks": "",
           "title": {
            "standoff": 15
           },
           "zerolinecolor": "#283442",
           "zerolinewidth": 2
          }
         }
        },
        "title": {
         "text": "Clustering Customer Segmentation"
        },
        "xaxis": {
         "anchor": "y",
         "domain": [
          0,
          1
         ],
         "title": {
          "text": "TotalAmount"
         }
        },
        "yaxis": {
         "anchor": "x",
         "domain": [
          0,
          1
         ],
         "title": {
          "text": "Qty"
         }
        }
       }
      }
     },
     "metadata": {},
     "output_type": "display_data"
    }
   ],
   "source": [
    "fig = px.scatter(df_model, x='TotalAmount', y='Qty', color='Cluster_label', title='Clustering Customer Segmentation', template='plotly_dark')\n",
    "fig.show()"
   ]
  },
  {
   "cell_type": "markdown",
   "metadata": {},
   "source": [
    "# Using Pycaret clustering"
   ]
  },
  {
   "cell_type": "code",
   "execution_count": 97,
   "metadata": {},
   "outputs": [],
   "source": [
    "pycaret_model = df_model = data.groupby('CustomerID')[['TransactionID', 'Qty', 'TotalAmount']].agg({'TransactionID':'count', 'Qty':'sum', 'TotalAmount':'sum'}).reset_index()"
   ]
  },
  {
   "cell_type": "code",
   "execution_count": 98,
   "metadata": {},
   "outputs": [
    {
     "data": {
      "text/html": [
       "<style type=\"text/css\">\n",
       "#T_4d697_row4_col1, #T_4d697_row8_col1, #T_4d697_row11_col1 {\n",
       "  background-color: lightgreen;\n",
       "}\n",
       "</style>\n",
       "<table id=\"T_4d697\">\n",
       "  <thead>\n",
       "    <tr>\n",
       "      <th class=\"blank level0\" >&nbsp;</th>\n",
       "      <th id=\"T_4d697_level0_col0\" class=\"col_heading level0 col0\" >Description</th>\n",
       "      <th id=\"T_4d697_level0_col1\" class=\"col_heading level0 col1\" >Value</th>\n",
       "    </tr>\n",
       "  </thead>\n",
       "  <tbody>\n",
       "    <tr>\n",
       "      <th id=\"T_4d697_level0_row0\" class=\"row_heading level0 row0\" >0</th>\n",
       "      <td id=\"T_4d697_row0_col0\" class=\"data row0 col0\" >Session id</td>\n",
       "      <td id=\"T_4d697_row0_col1\" class=\"data row0 col1\" >123</td>\n",
       "    </tr>\n",
       "    <tr>\n",
       "      <th id=\"T_4d697_level0_row1\" class=\"row_heading level0 row1\" >1</th>\n",
       "      <td id=\"T_4d697_row1_col0\" class=\"data row1 col0\" >Original data shape</td>\n",
       "      <td id=\"T_4d697_row1_col1\" class=\"data row1 col1\" >(447, 2)</td>\n",
       "    </tr>\n",
       "    <tr>\n",
       "      <th id=\"T_4d697_level0_row2\" class=\"row_heading level0 row2\" >2</th>\n",
       "      <td id=\"T_4d697_row2_col0\" class=\"data row2 col0\" >Transformed data shape</td>\n",
       "      <td id=\"T_4d697_row2_col1\" class=\"data row2 col1\" >(447, 2)</td>\n",
       "    </tr>\n",
       "    <tr>\n",
       "      <th id=\"T_4d697_level0_row3\" class=\"row_heading level0 row3\" >3</th>\n",
       "      <td id=\"T_4d697_row3_col0\" class=\"data row3 col0\" >Numeric features</td>\n",
       "      <td id=\"T_4d697_row3_col1\" class=\"data row3 col1\" >2</td>\n",
       "    </tr>\n",
       "    <tr>\n",
       "      <th id=\"T_4d697_level0_row4\" class=\"row_heading level0 row4\" >4</th>\n",
       "      <td id=\"T_4d697_row4_col0\" class=\"data row4 col0\" >Preprocess</td>\n",
       "      <td id=\"T_4d697_row4_col1\" class=\"data row4 col1\" >True</td>\n",
       "    </tr>\n",
       "    <tr>\n",
       "      <th id=\"T_4d697_level0_row5\" class=\"row_heading level0 row5\" >5</th>\n",
       "      <td id=\"T_4d697_row5_col0\" class=\"data row5 col0\" >Imputation type</td>\n",
       "      <td id=\"T_4d697_row5_col1\" class=\"data row5 col1\" >simple</td>\n",
       "    </tr>\n",
       "    <tr>\n",
       "      <th id=\"T_4d697_level0_row6\" class=\"row_heading level0 row6\" >6</th>\n",
       "      <td id=\"T_4d697_row6_col0\" class=\"data row6 col0\" >Numeric imputation</td>\n",
       "      <td id=\"T_4d697_row6_col1\" class=\"data row6 col1\" >mean</td>\n",
       "    </tr>\n",
       "    <tr>\n",
       "      <th id=\"T_4d697_level0_row7\" class=\"row_heading level0 row7\" >7</th>\n",
       "      <td id=\"T_4d697_row7_col0\" class=\"data row7 col0\" >Categorical imputation</td>\n",
       "      <td id=\"T_4d697_row7_col1\" class=\"data row7 col1\" >mode</td>\n",
       "    </tr>\n",
       "    <tr>\n",
       "      <th id=\"T_4d697_level0_row8\" class=\"row_heading level0 row8\" >8</th>\n",
       "      <td id=\"T_4d697_row8_col0\" class=\"data row8 col0\" >Normalize</td>\n",
       "      <td id=\"T_4d697_row8_col1\" class=\"data row8 col1\" >True</td>\n",
       "    </tr>\n",
       "    <tr>\n",
       "      <th id=\"T_4d697_level0_row9\" class=\"row_heading level0 row9\" >9</th>\n",
       "      <td id=\"T_4d697_row9_col0\" class=\"data row9 col0\" >Normalize method</td>\n",
       "      <td id=\"T_4d697_row9_col1\" class=\"data row9 col1\" >zscore</td>\n",
       "    </tr>\n",
       "    <tr>\n",
       "      <th id=\"T_4d697_level0_row10\" class=\"row_heading level0 row10\" >10</th>\n",
       "      <td id=\"T_4d697_row10_col0\" class=\"data row10 col0\" >CPU Jobs</td>\n",
       "      <td id=\"T_4d697_row10_col1\" class=\"data row10 col1\" >-1</td>\n",
       "    </tr>\n",
       "    <tr>\n",
       "      <th id=\"T_4d697_level0_row11\" class=\"row_heading level0 row11\" >11</th>\n",
       "      <td id=\"T_4d697_row11_col0\" class=\"data row11 col0\" >Use GPU</td>\n",
       "      <td id=\"T_4d697_row11_col1\" class=\"data row11 col1\" >True</td>\n",
       "    </tr>\n",
       "    <tr>\n",
       "      <th id=\"T_4d697_level0_row12\" class=\"row_heading level0 row12\" >12</th>\n",
       "      <td id=\"T_4d697_row12_col0\" class=\"data row12 col0\" >Log Experiment</td>\n",
       "      <td id=\"T_4d697_row12_col1\" class=\"data row12 col1\" >False</td>\n",
       "    </tr>\n",
       "    <tr>\n",
       "      <th id=\"T_4d697_level0_row13\" class=\"row_heading level0 row13\" >13</th>\n",
       "      <td id=\"T_4d697_row13_col0\" class=\"data row13 col0\" >Experiment Name</td>\n",
       "      <td id=\"T_4d697_row13_col1\" class=\"data row13 col1\" >cluster-default-name</td>\n",
       "    </tr>\n",
       "    <tr>\n",
       "      <th id=\"T_4d697_level0_row14\" class=\"row_heading level0 row14\" >14</th>\n",
       "      <td id=\"T_4d697_row14_col0\" class=\"data row14 col0\" >USI</td>\n",
       "      <td id=\"T_4d697_row14_col1\" class=\"data row14 col1\" >c887</td>\n",
       "    </tr>\n",
       "  </tbody>\n",
       "</table>\n"
      ],
      "text/plain": [
       "<pandas.io.formats.style.Styler at 0x24a30eedea0>"
      ]
     },
     "metadata": {},
     "output_type": "display_data"
    }
   ],
   "source": [
    "from pycaret.clustering import *\n",
    "s = setup(pycaret_model[features].copy(), normalize=True, use_gpu=True, session_id=123)"
   ]
  },
  {
   "cell_type": "code",
   "execution_count": 99,
   "metadata": {},
   "outputs": [
    {
     "data": {
      "text/html": [],
      "text/plain": [
       "<IPython.core.display.HTML object>"
      ]
     },
     "metadata": {},
     "output_type": "display_data"
    },
    {
     "data": {
      "text/html": [],
      "text/plain": [
       "<IPython.core.display.HTML object>"
      ]
     },
     "metadata": {},
     "output_type": "display_data"
    },
    {
     "data": {
      "application/vnd.jupyter.widget-view+json": {
       "model_id": "f129f43c4f9849b38abc1b441cef386c",
       "version_major": 2,
       "version_minor": 0
      },
      "text/plain": [
       "Processing:   0%|          | 0/3 [00:00<?, ?it/s]"
      ]
     },
     "metadata": {},
     "output_type": "display_data"
    }
   ],
   "source": [
    "pycaret_kmeans = create_model('kmeans')"
   ]
  },
  {
   "cell_type": "code",
   "execution_count": 100,
   "metadata": {},
   "outputs": [
    {
     "name": "stdout",
     "output_type": "stream",
     "text": [
      "KMeans(n_clusters=4, random_state=123)\n"
     ]
    }
   ],
   "source": [
    "print(pycaret_kmeans)"
   ]
  },
  {
   "cell_type": "code",
   "execution_count": 101,
   "metadata": {},
   "outputs": [
    {
     "data": {
      "text/html": [],
      "text/plain": [
       "<IPython.core.display.HTML object>"
      ]
     },
     "metadata": {},
     "output_type": "display_data"
    },
    {
     "data": {
      "image/png": "[encoded data removed]",
      "text/plain": [
       "<Figure size 432x288 with 1 Axes>"
      ]
     },
     "metadata": {
      "needs_background": "light"
     },
     "output_type": "display_data"
    }
   ],
   "source": [
    "plot_model(pycaret_kmeans, plot='elbow')"
   ]
  },
  {
   "cell_type": "code",
   "execution_count": 102,
   "metadata": {},
   "outputs": [
    {
     "data": {
      "text/html": [],
      "text/plain": [
       "<IPython.core.display.HTML object>"
      ]
     },
     "metadata": {},
     "output_type": "display_data"
    },
    {
     "data": {
      "image/png": "[encoded data removed]",
      "text/plain": [
       "<Figure size 432x288 with 1 Axes>"
      ]
     },
     "metadata": {
      "needs_background": "light"
     },
     "output_type": "display_data"
    }
   ],
   "source": [
    "plot_model(pycaret_kmeans, plot='silhouette')"
   ]
  },
  {
   "cell_type": "code",
   "execution_count": 103,
   "metadata": {},
   "outputs": [],
   "source": [
    "models = df_model = data.groupby('CustomerID')[['TransactionID', 'Qty', 'TotalAmount']].agg({'TransactionID':'count', 'Qty':'sum', 'TotalAmount':'sum'}).reset_index()"
   ]
  },
  {
   "cell_type": "code",
   "execution_count": 104,
   "metadata": {},
   "outputs": [],
   "source": [
    "pycaret_prediction = predict_model(pycaret_kmeans, data=models)"
   ]
  },
  {
   "cell_type": "code",
   "execution_count": 106,
   "metadata": {},
   "outputs": [
    {
     "data": {
      "text/html": [
       "<div>\n",
       "<style scoped>\n",
       "    .dataframe tbody tr th:only-of-type {\n",
       "        vertical-align: middle;\n",
       "    }\n",
       "\n",
       "    .dataframe tbody tr th {\n",
       "        vertical-align: top;\n",
       "    }\n",
       "\n",
       "    .dataframe thead th {\n",
       "        text-align: right;\n",
       "    }\n",
       "</style>\n",
       "<table border=\"1\" class=\"dataframe\">\n",
       "  <thead>\n",
       "    <tr style=\"text-align: right;\">\n",
       "      <th></th>\n",
       "      <th>CustomerID</th>\n",
       "      <th>TransactionID</th>\n",
       "      <th>Qty</th>\n",
       "      <th>TotalAmount</th>\n",
       "      <th>Cluster</th>\n",
       "    </tr>\n",
       "  </thead>\n",
       "  <tbody>\n",
       "    <tr>\n",
       "      <th>0</th>\n",
       "      <td>1</td>\n",
       "      <td>17</td>\n",
       "      <td>60</td>\n",
       "      <td>623300</td>\n",
       "      <td>Cluster 2</td>\n",
       "    </tr>\n",
       "    <tr>\n",
       "      <th>1</th>\n",
       "      <td>2</td>\n",
       "      <td>13</td>\n",
       "      <td>57</td>\n",
       "      <td>392300</td>\n",
       "      <td>Cluster 0</td>\n",
       "    </tr>\n",
       "    <tr>\n",
       "      <th>2</th>\n",
       "      <td>3</td>\n",
       "      <td>15</td>\n",
       "      <td>56</td>\n",
       "      <td>446200</td>\n",
       "      <td>Cluster 0</td>\n",
       "    </tr>\n",
       "    <tr>\n",
       "      <th>3</th>\n",
       "      <td>4</td>\n",
       "      <td>10</td>\n",
       "      <td>46</td>\n",
       "      <td>302500</td>\n",
       "      <td>Cluster 3</td>\n",
       "    </tr>\n",
       "    <tr>\n",
       "      <th>4</th>\n",
       "      <td>5</td>\n",
       "      <td>7</td>\n",
       "      <td>27</td>\n",
       "      <td>268600</td>\n",
       "      <td>Cluster 1</td>\n",
       "    </tr>\n",
       "  </tbody>\n",
       "</table>\n",
       "</div>"
      ],
      "text/plain": [
       "   CustomerID  TransactionID  Qty  TotalAmount    Cluster\n",
       "0           1             17   60       623300  Cluster 2\n",
       "1           2             13   57       392300  Cluster 0\n",
       "2           3             15   56       446200  Cluster 0\n",
       "3           4             10   46       302500  Cluster 3\n",
       "4           5              7   27       268600  Cluster 1"
      ]
     },
     "execution_count": 106,
     "metadata": {},
     "output_type": "execute_result"
    }
   ],
   "source": [
    "pycaret_model['Cluster'] = pycaret_prediction['Cluster']\n",
    "pycaret_model.head()"
   ]
  },
  {
   "cell_type": "code",
   "execution_count": 108,
   "metadata": {},
   "outputs": [
    {
     "data": {
      "application/vnd.plotly.v1+json": {
       "config": {
        "plotlyServerURL": "https://plot.ly"
       },
       "data": [
        {
         "hovertemplate": "Cluster=Cluster 2<br>TotalAmount=%{x}<br>Qty=%{y}<extra></extra>",
         "legendgroup": "Cluster 2",
         "marker": {
          "color": "#636efa",
          "symbol": "circle"
         },
         "mode": "markers",
         "name": "Cluster 2",
         "orientation": "v",
         "showlegend": true,
         "type": "scatter",
         "x": [
          2.0947679614986057,
          1.094726105777214,
          1.7670434015513545,
          2.461851598498346,
          1.7035869303850975,
          1.3332903075035218,
          1.156576084002553,
          0.6939061170181982,
          2.109226397966867,
          1.4192376798426294,
          1.456187017483741,
          1.5341019251182593,
          1.5164305027681624,
          1.6128200792232363,
          2.4457866690891668,
          1.1340851828297025,
          0.8698170940487081,
          2.1277010667874228,
          3.197625365438743,
          1.5485603615865202,
          1.347748743971783,
          1.0802676693089528,
          1.300357202214705,
          0.6521373005543328,
          1.771862880374108,
          1.8120252038970557,
          0.9991397757925989,
          2.2626464738245264,
          1.9108245197635065,
          1.7188486133238174,
          2.51968534437139,
          1.631294748043792,
          1.6714570715667396,
          0.9927138040289274,
          1.2176228157574331,
          1.0376956063746285,
          2.186338059130926,
          0.9091761711011966,
          1.299553955744246,
          1.7341102962625377,
          1.8176479291902683,
          2.0891452362053933,
          1.032072881081416,
          1.6987674515623439,
          1.1019553240113444,
          1.0995455845999675,
          1.7806985915491567,
          2.03050824386189,
          1.490726615713476,
          1.3389130327967345,
          1.3196351175057197,
          1.077857929897576,
          1.3204383639761788,
          3.8892205765038987,
          1.6248687762801204,
          2.4072308385071373,
          3.12372669015652,
          1.1943286681141236,
          2.0345244762141848,
          1.3814850957310587,
          2.024885518568677,
          1.7051934233260153,
          1.1838864639981572,
          0.9846813393243379,
          1.728487570969325,
          1.8047959856629252
         ],
         "xaxis": "x",
         "y": [
          1.4965272796514193,
          1.2610928495701719,
          1.575005423011835,
          2.1243524265347458,
          1.7319617097326667,
          0.9471802761285085,
          1.1041365628493403,
          1.7319617097326667,
          2.438264999976409,
          1.2610928495701719,
          2.359786856615993,
          1.0256584194889244,
          1.2610928495701719,
          1.182614706209756,
          1.8889179964534983,
          1.575005423011835,
          1.653483566372251,
          1.653483566372251,
          2.9876120034993194,
          1.8104398530930825,
          1.0256584194889244,
          1.3395709929305877,
          1.182614706209756,
          1.653483566372251,
          1.575005423011835,
          1.8889179964534983,
          1.4180491362910035,
          1.9673961398139141,
          1.8889179964534983,
          2.1243524265347458,
          1.8104398530930825,
          2.5167431433368246,
          1.3395709929305877,
          1.2610928495701719,
          1.3395709929305877,
          1.3395709929305877,
          1.8889179964534983,
          2.1243524265347458,
          1.1041365628493403,
          2.438264999976409,
          1.0256584194889244,
          1.4965272796514193,
          1.3395709929305877,
          0.7902239894076769,
          1.4180491362910035,
          1.575005423011835,
          0.8687021327680927,
          0.9471802761285085,
          2.1243524265347458,
          1.2610928495701719,
          1.7319617097326667,
          1.3395709929305877,
          1.2610928495701719,
          2.673699430057656,
          1.1041365628493403,
          1.8889179964534983,
          2.359786856615993,
          1.653483566372251,
          2.359786856615993,
          1.9673961398139141,
          1.653483566372251,
          1.1041365628493403,
          1.2610928495701719,
          1.4180491362910035,
          1.653483566372251,
          2.1243524265347458
         ],
         "yaxis": "y"
        },
        {
         "hovertemplate": "Cluster=Cluster 0<br>TotalAmount=%{x}<br>Qty=%{y}<extra></extra>",
         "legendgroup": "Cluster 0",
         "marker": {
          "color": "#EF553B",
          "symbol": "circle"
         },
         "mode": "markers",
         "name": "Cluster 0",
         "orientation": "v",
         "showlegend": true,
         "type": "scatter",
         "x": [
          0.23926861473843286,
          0.6722184623158065,
          0.775837257005011,
          1.4425318274859389,
          0.9276508399217525,
          0.35573935295498055,
          0.10512645417178833,
          0.7501333699503246,
          0.3372646841344247,
          1.0497443034315128,
          0.4810458023465766,
          1.0658092328406916,
          0.619204195265516,
          0.6400886034974486,
          0.4858652811693303,
          0.6433015893792844,
          0.8047541299415332,
          0.17099266474942218,
          0.47140684470106925,
          0.019982328303139698,
          0.2264166712110897,
          0.3830497329505848,
          0.619204195265516,
          0.48827502058070715,
          1.2120000904642205,
          1.237703977518907,
          0.28826664943642877,
          0.9758456281492894,
          0.8071638693529101,
          0.1436822847538179,
          1.125249471654654,
          0.6545470399657096,
          0.6240236740882696,
          1.203967625759631,
          0.8055573764119921,
          0.6087619911495495,
          0.20794200239053384,
          0.38385297942104374,
          0.25051406532485815,
          1.0850871481317066,
          0.6561535329066276,
          0.5019302105785093,
          0.3509198741322268,
          -0.3527240339898128,
          0.06335763770792296,
          1.4328928698404315,
          0.6031392658563369,
          0.03765375065323658,
          0.2151712206246644,
          -0.06837478344734473,
          0.8842755305169692,
          0.2007127841564033,
          0.15171474945840738,
          0.9131924034534914,
          0.4191958241212375,
          0.4135730988280249,
          0.23203939650430233,
          -0.0017053263992519328,
          0.34288740942763735,
          0.3067413182569846,
          0.7308554546593099,
          1.1276592110660308,
          0.744510644657112,
          0.617597702324598,
          0.7075613070160003,
          0.5726158999788968,
          0.40393414118251747,
          1.0176144446131548,
          0.12440436946280312,
          -0.0017053263992519328,
          1.3220448569170966,
          0.23685887532705602,
          1.0079754869676474,
          0.3565425994254395,
          0.34208416295717836,
          0.8826690375760513,
          0.18223811533584747,
          0.490684759992084,
          0.2609562694408245,
          0.9051599387489019,
          0.744510644657112,
          0.8794560516942155,
          0.7236262364251793,
          1.5075947915931138,
          0.35975558530727525,
          0.43124452117812173,
          0.5035367035194273,
          0.34128091648671943,
          0.5814516111539453,
          0.5967132940926653,
          1.0063689940267295,
          0.16938617180850427,
          0.05211218712149767,
          0.871423586989626,
          0.8722268334600849,
          0.8649976152259544,
          0.42642504235536804,
          0.13805955946060525,
          0.003917398893960713,
          0.6995288423114109,
          0.32039650825478677,
          0.6481210682020381,
          0.7188067576024256,
          0.17340240416079902,
          0.4384737394122523,
          0.6240236740882696,
          0.8135898411165816,
          1.1172170069500644,
          0.505946442930804,
          0.760575574066291,
          0.48827502058070715,
          0.6167944558541391
         ],
         "xaxis": "x",
         "y": [
          1.2610928495701719,
          1.182614706209756,
          0.24087698588476622,
          0.4763114159660137,
          0.7117458460472611,
          0.24087698588476622,
          0.7117458460472611,
          0.24087698588476622,
          0.1623988425243504,
          0.7902239894076769,
          0.7902239894076769,
          0.6332677026868453,
          0.31935512924518206,
          0.8687021327680927,
          0.005442555803518783,
          1.2610928495701719,
          0.7902239894076769,
          0.6332677026868453,
          0.6332677026868453,
          0.9471802761285085,
          0.1623988425243504,
          0.1623988425243504,
          0.24087698588476622,
          1.2610928495701719,
          0.9471802761285085,
          0.39783327260559787,
          1.0256584194889244,
          0.8687021327680927,
          0.39783327260559787,
          0.1623988425243504,
          0.7117458460472611,
          0.8687021327680927,
          0.9471802761285085,
          0.39783327260559787,
          0.9471802761285085,
          0.24087698588476622,
          0.1623988425243504,
          0.24087698588476622,
          0.08392069916393459,
          1.0256584194889244,
          0.7117458460472611,
          0.08392069916393459,
          0.39783327260559787,
          0.7902239894076769,
          0.7117458460472611,
          0.7117458460472611,
          0.5547895593264295,
          0.4763114159660137,
          0.8687021327680927,
          0.7902239894076769,
          0.24087698588476622,
          0.31935512924518206,
          0.7902239894076769,
          0.08392069916393459,
          0.1623988425243504,
          0.24087698588476622,
          0.24087698588476622,
          0.39783327260559787,
          1.0256584194889244,
          0.5547895593264295,
          0.6332677026868453,
          0.7902239894076769,
          0.31935512924518206,
          -0.30847001763814447,
          0.5547895593264295,
          0.31935512924518206,
          0.31935512924518206,
          0.39783327260559787,
          0.4763114159660137,
          0.7117458460472611,
          0.6332677026868453,
          1.0256584194889244,
          1.0256584194889244,
          0.5547895593264295,
          0.24087698588476622,
          0.8687021327680927,
          0.4763114159660137,
          1.0256584194889244,
          0.7902239894076769,
          0.7902239894076769,
          1.3395709929305877,
          1.2610928495701719,
          1.2610928495701719,
          0.4763114159660137,
          0.1623988425243504,
          0.31935512924518206,
          0.08392069916393459,
          0.08392069916393459,
          1.0256584194889244,
          0.7117458460472611,
          0.9471802761285085,
          0.31935512924518206,
          0.9471802761285085,
          0.005442555803518783,
          0.7902239894076769,
          0.9471802761285085,
          1.0256584194889244,
          0.31935512924518206,
          0.6332677026868453,
          0.9471802761285085,
          0.8687021327680927,
          0.9471802761285085,
          0.5547895593264295,
          0.24087698588476622,
          0.08392069916393459,
          -0.15151373091731285,
          0.7902239894076769,
          0.9471802761285085,
          0.8687021327680927,
          0.4763114159660137,
          0.08392069916393459,
          0.08392069916393459
         ],
         "yaxis": "y"
        },
        {
         "hovertemplate": "Cluster=Cluster 3<br>TotalAmount=%{x}<br>Qty=%{y}<extra></extra>",
         "legendgroup": "Cluster 3",
         "marker": {
          "color": "#00cc96",
          "symbol": "circle"
         },
         "mode": "markers",
         "name": "Cluster 3",
         "orientation": "v",
         "showlegend": true,
         "type": "scatter",
         "x": [
          -0.4820467157337036,
          -0.1069306140293743,
          0.28906989590688775,
          -0.047490375215412044,
          -0.5029311239656363,
          0.11637190475821362,
          -0.27400587988483577,
          -0.27239938694391785,
          -0.3430850763443054,
          -0.05391634697908364,
          -0.01696700933797197,
          -0.9214225350747489,
          -0.40252531515826767,
          -0.5278317645498638,
          -0.5165863139634385,
          0.46498087293739765,
          -0.16315786696150075,
          -0.27079289400299994,
          -0.3302331328169622,
          -0.21295914812995562,
          0.24890757238394026,
          -0.41859024456744665,
          0.3436906558980963,
          0.17661539004263482,
          0.3701977894232416,
          -0.9407004503657637,
          -0.7599699945125001,
          -0.08122672697468791,
          -0.3125617104668653,
          -0.052309854038165744,
          0.33003546590029414,
          -0.3479045551670591,
          -0.26677666165070524,
          0.1910738265108959,
          -0.3446915692852233,
          0.2561367906180708,
          0.04247322947599028,
          -0.6402862704141167,
          -0.05953907227229629,
          -0.2651701687097873,
          -0.00009883345833403419,
          -0.37039545633990967,
          -0.7238239033418474,
          -0.3559370198716486,
          -0.6740226221733925,
          0.17099266474942218,
          -0.6571544462937546,
          -0.6780388545256872,
          -0.46919477220636047,
          -0.5455031868999606,
          0.19990953768594436,
          -0.38646038574908864,
          0.17741863651309378,
          -0.5824525245410723,
          -0.4113610263333161,
          0.011949863598550206,
          0.011949863598550206,
          0.3517231206026858,
          -0.09166893109065426,
          -0.29730002752814527,
          -0.41055777986285713,
          -0.17600981048884393,
          -0.35834675928302545,
          -0.2290240775391346,
          -0.5286350110203227,
          -0.052309854038165744,
          -0.1037176281475385,
          -0.4635720469131478,
          -0.8378849021470182,
          -0.42501621633111825,
          -0.48445645514508046,
          -0.4876694410269163,
          0.15573098181070213,
          0.024801807125893395,
          -0.8427043809697718,
          -0.7961160856831528,
          -0.16958383872517235,
          -0.41377076574469296,
          0.1597472141629969,
          -0.6724161292324746,
          -0.15030592343415755,
          -0.3591500057534844,
          -0.22661433812775775,
          -0.698120016287161,
          -0.7342661074578137,
          -0.011344284044759324,
          0.2738082129681677,
          -0.4748174974995731,
          -0.41698375162652873,
          0.1533212423993253,
          -0.2691864010620821,
          -0.8539498315561972,
          -0.21617213401179142,
          0.010343370657632307,
          -0.7864771280376455,
          0.3894757047142564,
          -0.508553849258849,
          -0.16958383872517235,
          -0.5455031868999606,
          -0.6402862704141167,
          -0.5197992998452743,
          -0.4507201033858046,
          -0.6788421009961462,
          -0.36959220986945074,
          -0.3736084422217455,
          0.061751144767005064,
          -0.5487161727817964,
          -0.5623713627795985,
          0.4971107317557556,
          -0.524618778668028,
          -0.8427043809697718,
          -0.5455031868999606,
          0.11155242593545993,
          -0.6868745657007357,
          -0.32059417517145483,
          -0.17440331754792604,
          0.24328484709072762,
          -0.5471096798408785,
          -0.8330654233242645,
          -0.6868745657007357,
          -0.5631746092500575,
          -0.46919477220636047,
          0.2657757482635782,
          -0.698120016287161,
          0.0834387994693967,
          -0.18082928931159764,
          -0.8290491909719697,
          -0.47883372985186784,
          0.26497250179311926,
          0.03283427183048289,
          -0.17279682460700815,
          -0.05471959344954259,
          -0.8828667044927193,
          -0.1053241210884564,
          -0.4683915257359015,
          -0.8394913950879361,
          -0.38164090692633496,
          -0.460359061031312,
          -0.43144218809478985,
          -0.12861826873176593,
          -0.17440331754792604,
          -0.31979092870099585,
          -0.6081564115957587,
          -0.26757990812116417,
          0.4063438805938943,
          -0.08202997344514687,
          -0.10773386049983324,
          0.16135370710391478,
          -0.3800344139854171,
          -0.5631746092500575,
          -0.4932921663201289,
          -0.046687128744953094,
          -0.412967519274234,
          0.10351996123087043,
          -0.7101687133440453,
          -0.5286350110203227,
          -0.7487245439260748,
          -0.9760432950659574,
          -0.24990848577106728,
          -0.8716212539062941,
          -0.08122672697468791,
          -0.5623713627795985,
          -0.06676829050642683,
          -0.02098324169026672,
          -0.09086568462019531,
          -0.11335658579304589,
          0.2625627623817424,
          -0.7479212974556159
         ],
         "xaxis": "x",
         "y": [
          0.39783327260559787,
          0.24087698588476622,
          -0.4654263043589761,
          0.005442555803518783,
          -0.4654263043589761,
          0.08392069916393459,
          -0.7008607344402236,
          -0.543904447719392,
          -0.07303558755689703,
          -0.3869481609985603,
          -0.4654263043589761,
          -0.4654263043589761,
          -0.7008607344402236,
          -0.6223825910798078,
          -0.8578170211610552,
          -0.22999187427772866,
          0.31935512924518206,
          -0.4654263043589761,
          -0.30847001763814447,
          0.1623988425243504,
          -0.07303558755689703,
          0.08392069916393459,
          -0.07303558755689703,
          0.005442555803518783,
          -0.30847001763814447,
          -0.15151373091731285,
          -0.07303558755689703,
          0.24087698588476622,
          -0.22999187427772866,
          -0.30847001763814447,
          -0.07303558755689703,
          -0.7793388778006394,
          -0.7008607344402236,
          -0.7008607344402236,
          0.005442555803518783,
          0.005442555803518783,
          -0.22999187427772866,
          -0.7008607344402236,
          0.24087698588476622,
          -0.3869481609985603,
          -0.543904447719392,
          -0.6223825910798078,
          -0.4654263043589761,
          -0.7793388778006394,
          -0.3869481609985603,
          -0.15151373091731285,
          -0.7793388778006394,
          -0.4654263043589761,
          0.24087698588476622,
          -0.8578170211610552,
          0.005442555803518783,
          -0.3869481609985603,
          -0.3869481609985603,
          -0.22999187427772866,
          -0.22999187427772866,
          -0.15151373091731285,
          0.08392069916393459,
          -0.22999187427772866,
          -0.22999187427772866,
          0.08392069916393459,
          -0.936295164521471,
          -0.8578170211610552,
          -0.543904447719392,
          -0.543904447719392,
          -0.07303558755689703,
          0.1623988425243504,
          -0.6223825910798078,
          -0.8578170211610552,
          -0.3869481609985603,
          0.005442555803518783,
          -0.07303558755689703,
          -0.30847001763814447,
          -0.3869481609985603,
          -0.30847001763814447,
          -0.30847001763814447,
          -0.6223825910798078,
          0.31935512924518206,
          -0.07303558755689703,
          -0.07303558755689703,
          0.08392069916393459,
          -0.15151373091731285,
          -0.07303558755689703,
          0.005442555803518783,
          -0.30847001763814447,
          -0.6223825910798078,
          -0.30847001763814447,
          -0.4654263043589761,
          -0.22999187427772866,
          -0.936295164521471,
          -0.30847001763814447,
          -0.6223825910798078,
          -0.4654263043589761,
          -0.4654263043589761,
          -0.6223825910798078,
          -0.3869481609985603,
          -0.22999187427772866,
          0.31935512924518206,
          0.1623988425243504,
          -0.6223825910798078,
          -0.15151373091731285,
          -0.543904447719392,
          -0.30847001763814447,
          -0.4654263043589761,
          -0.8578170211610552,
          -0.30847001763814447,
          -0.30847001763814447,
          -0.543904447719392,
          -0.07303558755689703,
          -0.4654263043589761,
          0.08392069916393459,
          0.39783327260559787,
          -0.30847001763814447,
          -0.07303558755689703,
          0.08392069916393459,
          -0.7793388778006394,
          -0.4654263043589761,
          0.005442555803518783,
          0.08392069916393459,
          -0.4654263043589761,
          -0.30847001763814447,
          -0.15151373091731285,
          -0.8578170211610552,
          -0.6223825910798078,
          -0.3869481609985603,
          -0.07303558755689703,
          -0.3869481609985603,
          -0.4654263043589761,
          0.08392069916393459,
          -0.15151373091731285,
          0.08392069916393459,
          -0.22999187427772866,
          -0.30847001763814447,
          -0.4654263043589761,
          0.08392069916393459,
          -0.936295164521471,
          -0.30847001763814447,
          -0.30847001763814447,
          0.08392069916393459,
          -0.22999187427772866,
          0.24087698588476622,
          0.39783327260559787,
          0.08392069916393459,
          -0.7008607344402236,
          -0.6223825910798078,
          -0.3869481609985603,
          -0.6223825910798078,
          -0.30847001763814447,
          -0.15151373091731285,
          -0.6223825910798078,
          0.005442555803518783,
          0.31935512924518206,
          0.24087698588476622,
          0.08392069916393459,
          -0.07303558755689703,
          0.005442555803518783,
          -0.22999187427772866,
          -0.30847001763814447,
          -0.3869481609985603,
          0.39783327260559787,
          -0.6223825910798078,
          0.005442555803518783,
          0.005442555803518783,
          0.1623988425243504,
          -0.07303558755689703,
          -0.7008607344402236,
          0.005442555803518783,
          -0.07303558755689703,
          -0.30847001763814447
         ],
         "yaxis": "y"
        },
        {
         "hovertemplate": "Cluster=Cluster 1<br>TotalAmount=%{x}<br>Qty=%{y}<extra></extra>",
         "legendgroup": "Cluster 1",
         "marker": {
          "color": "#ab63fa",
          "symbol": "circle"
         },
         "mode": "markers",
         "name": "Cluster 1",
         "orientation": "v",
         "showlegend": true,
         "type": "scatter",
         "x": [
          -0.7543472692192874,
          -0.9254387674270437,
          -2.172077289579333,
          -1.0354835338799198,
          -1.3302749885383542,
          -1.2587860526675076,
          -1.21862372914456,
          -1.1543640115078442,
          -1.7744702867021531,
          -1.1704289409170232,
          -0.9318647391907152,
          -0.7543472692192874,
          -1.4531716985185734,
          -0.9423069433066816,
          -1.6443443584878032,
          -0.6965135233462431,
          -1.6571963020151466,
          -1.1174146738667325,
          -1.080465336225621,
          -1.2539665738447539,
          -1.8114196243432648,
          -1.4387132620503122,
          -0.6346635451209041,
          -0.825836205090134,
          -0.9342744786020921,
          -1.5142184302734536,
          -1.253163327374295,
          -1.3551756291225816,
          -1.2780639679585224,
          -1.0218283438821176,
          -1.5447417961508936,
          -1.4001574314682828,
          -0.6884810586416537,
          -1.4507619591071965,
          -1.3383074532429435,
          -1.5768716549692516,
          -0.7985258250945296,
          -1.44031975499123,
          -0.903751112724652,
          -1.9367260737348608,
          -0.7937063462717759,
          -1.6700482455424897,
          -1.6579995484856054,
          -1.773667040231694,
          -2.0475740866581957,
          -1.143118560921419,
          -1.5849041196738411,
          -1.0419095056435914,
          -0.998534196238808,
          -1.5029729796870281,
          -1.2796704608994403,
          -1.4419262479321482,
          -1.1840841309148253,
          -1.0394997662322145,
          -0.7173979315781758,
          -1.0531549562300166,
          -1.0411062591731324,
          -0.9664043374204501,
          -1.1864938703262022,
          -0.9093738380178646,
          -0.9583718727158606,
          -1.044319245054968,
          -1.3889119808818575,
          -1.7527826319997615,
          -0.6916940445234894,
          -1.5286768667417145,
          -0.8491303527334435,
          -1.506185965568864,
          -0.7864771280376455,
          -1.0105828932956924,
          -1.7503728925883846,
          -0.7639862268647949,
          -1.5913300914375126,
          -0.8009355645059065,
          -1.033877040939002,
          -0.9527491474226479,
          -1.0081731538843155,
          -1.7680443149384815,
          -1.6186404714331168,
          -1.3752567908840554,
          -1.2941288973677014,
          -1.2587860526675076,
          -0.3591500057534844,
          -0.7937063462717759,
          -1.0081731538843155,
          -1.395337952645529,
          -1.2073782785581348,
          -1.0073699074138565,
          -0.9567653797749427,
          -0.889292676256391,
          -1.0724328715210314,
          -1.1832808844443663,
          -1.0732361179914904,
          -1.2170172362036422,
          -0.5639778557205165,
          -1.1142016879848968,
          -1.5334963455644683,
          -1.3101938267768805,
          -1.1222341526894863,
          -1.997772805489741,
          -1.9865273549033158
         ],
         "xaxis": "x",
         "y": [
          -1.0932514512423026,
          -1.0147733078818868,
          -2.4273798883693716,
          -0.543904447719392,
          -1.2502077379631342,
          -1.32868588132355,
          -1.6425984547652133,
          -1.6425984547652133,
          -1.6425984547652133,
          -0.6223825910798078,
          -1.0147733078818868,
          -0.936295164521471,
          -1.5641203114047975,
          -0.6223825910798078,
          -1.8780328848464607,
          -0.936295164521471,
          -1.8780328848464607,
          -1.2502077379631342,
          -1.2502077379631342,
          -0.8578170211610552,
          -1.8780328848464607,
          -1.2502077379631342,
          -1.0932514512423026,
          -0.7793388778006394,
          -1.0932514512423026,
          -1.1717295946027184,
          -1.1717295946027184,
          -1.32868588132355,
          -1.8780328848464607,
          -1.4856421680443817,
          -1.1717295946027184,
          -1.721076598125629,
          -0.8578170211610552,
          -1.32868588132355,
          -1.5641203114047975,
          -1.6425984547652133,
          -0.7793388778006394,
          -1.4856421680443817,
          -0.7793388778006394,
          -1.32868588132355,
          -0.7793388778006394,
          -1.721076598125629,
          -1.6425984547652133,
          -1.9565110282068765,
          -1.4856421680443817,
          -1.0147733078818868,
          -2.0349891715672923,
          -1.8780328848464607,
          -1.0932514512423026,
          -1.4856421680443817,
          -1.1717295946027184,
          -1.9565110282068765,
          -1.0932514512423026,
          -0.936295164521471,
          -1.4856421680443817,
          -1.0147733078818868,
          -1.1717295946027184,
          -1.1717295946027184,
          -0.543904447719392,
          -0.8578170211610552,
          -0.7793388778006394,
          -0.8578170211610552,
          -0.936295164521471,
          -1.7995547414860449,
          -0.8578170211610552,
          -1.0932514512423026,
          -1.1717295946027184,
          -1.1717295946027184,
          -1.0147733078818868,
          -0.7793388778006394,
          -1.7995547414860449,
          -1.4856421680443817,
          -2.191945458288124,
          -1.2502077379631342,
          -1.4856421680443817,
          -1.2502077379631342,
          -1.32868588132355,
          -1.721076598125629,
          -1.6425984547652133,
          -0.8578170211610552,
          -0.543904447719392,
          -1.4856421680443817,
          -1.1717295946027184,
          -1.0147733078818868,
          -0.8578170211610552,
          -1.32868588132355,
          -1.1717295946027184,
          -0.936295164521471,
          -1.1717295946027184,
          -1.4856421680443817,
          -1.0147733078818868,
          -0.7793388778006394,
          -0.936295164521471,
          -0.8578170211610552,
          -1.0147733078818868,
          -1.2502077379631342,
          -1.1717295946027184,
          -1.7995547414860449,
          -1.0147733078818868,
          -1.1717295946027184,
          -2.191945458288124
         ],
         "yaxis": "y"
        }
       ],
       "layout": {
        "legend": {
         "title": {
          "text": "Cluster"
         },
         "tracegroupgap": 0
        },
        "template": {
         "data": {
          "bar": [
           {
            "error_x": {
             "color": "#f2f5fa"
            },
            "error_y": {
             "color": "#f2f5fa"
            },
            "marker": {
             "line": {
              "color": "rgb(17,17,17)",
              "width": 0.5
             },
             "pattern": {
              "fillmode": "overlay",
              "size": 10,
              "solidity": 0.2
             }
            },
            "type": "bar"
           }
          ],
          "barpolar": [
           {
            "marker": {
             "line": {
              "color": "rgb(17,17,17)",
              "width": 0.5
             },
             "pattern": {
              "fillmode": "overlay",
              "size": 10,
              "solidity": 0.2
             }
            },
            "type": "barpolar"
           }
          ],
          "carpet": [
           {
            "aaxis": {
             "endlinecolor": "#A2B1C6",
             "gridcolor": "#506784",
             "linecolor": "#506784",
             "minorgridcolor": "#506784",
             "startlinecolor": "#A2B1C6"
            },
            "baxis": {
             "endlinecolor": "#A2B1C6",
             "gridcolor": "#506784",
             "linecolor": "#506784",
             "minorgridcolor": "#506784",
             "startlinecolor": "#A2B1C6"
            },
            "type": "carpet"
           }
          ],
          "choropleth": [
           {
            "colorbar": {
             "outlinewidth": 0,
             "ticks": ""
            },
            "type": "choropleth"
           }
          ],
          "contour": [
           {
            "colorbar": {
             "outlinewidth": 0,
             "ticks": ""
            },
            "colorscale": [
             [
              0,
              "#0d0887"
             ],
             [
              0.1111111111111111,
              "#46039f"
             ],
             [
              0.2222222222222222,
              "#7201a8"
             ],
             [
              0.3333333333333333,
              "#9c179e"
             ],
             [
              0.4444444444444444,
              "#bd3786"
             ],
             [
              0.5555555555555556,
              "#d8576b"
             ],
             [
              0.6666666666666666,
              "#ed7953"
             ],
             [
              0.7777777777777778,
              "#fb9f3a"
             ],
             [
              0.8888888888888888,
              "#fdca26"
             ],
             [
              1,
              "#f0f921"
             ]
            ],
            "type": "contour"
           }
          ],
          "contourcarpet": [
           {
            "colorbar": {
             "outlinewidth": 0,
             "ticks": ""
            },
            "type": "contourcarpet"
           }
          ],
          "heatmap": [
           {
            "colorbar": {
             "outlinewidth": 0,
             "ticks": ""
            },
            "colorscale": [
             [
              0,
              "#0d0887"
             ],
             [
              0.1111111111111111,
              "#46039f"
             ],
             [
              0.2222222222222222,
              "#7201a8"
             ],
             [
              0.3333333333333333,
              "#9c179e"
             ],
             [
              0.4444444444444444,
              "#bd3786"
             ],
             [
              0.5555555555555556,
              "#d8576b"
             ],
             [
              0.6666666666666666,
              "#ed7953"
             ],
             [
              0.7777777777777778,
              "#fb9f3a"
             ],
             [
              0.8888888888888888,
              "#fdca26"
             ],
             [
              1,
              "#f0f921"
             ]
            ],
            "type": "heatmap"
           }
          ],
          "heatmapgl": [
           {
            "colorbar": {
             "outlinewidth": 0,
             "ticks": ""
            },
            "colorscale": [
             [
              0,
              "#0d0887"
             ],
             [
              0.1111111111111111,
              "#46039f"
             ],
             [
              0.2222222222222222,
              "#7201a8"
             ],
             [
              0.3333333333333333,
              "#9c179e"
             ],
             [
              0.4444444444444444,
              "#bd3786"
             ],
             [
              0.5555555555555556,
              "#d8576b"
             ],
             [
              0.6666666666666666,
              "#ed7953"
             ],
             [
              0.7777777777777778,
              "#fb9f3a"
             ],
             [
              0.8888888888888888,
              "#fdca26"
             ],
             [
              1,
              "#f0f921"
             ]
            ],
            "type": "heatmapgl"
           }
          ],
          "histogram": [
           {
            "marker": {
             "pattern": {
              "fillmode": "overlay",
              "size": 10,
              "solidity": 0.2
             }
            },
            "type": "histogram"
           }
          ],
          "histogram2d": [
           {
            "colorbar": {
             "outlinewidth": 0,
             "ticks": ""
            },
            "colorscale": [
             [
              0,
              "#0d0887"
             ],
             [
              0.1111111111111111,
              "#46039f"
             ],
             [
              0.2222222222222222,
              "#7201a8"
             ],
             [
              0.3333333333333333,
              "#9c179e"
             ],
             [
              0.4444444444444444,
              "#bd3786"
             ],
             [
              0.5555555555555556,
              "#d8576b"
             ],
             [
              0.6666666666666666,
              "#ed7953"
             ],
             [
              0.7777777777777778,
              "#fb9f3a"
             ],
             [
              0.8888888888888888,
              "#fdca26"
             ],
             [
              1,
              "#f0f921"
             ]
            ],
            "type": "histogram2d"
           }
          ],
          "histogram2dcontour": [
           {
            "colorbar": {
             "outlinewidth": 0,
             "ticks": ""
            },
            "colorscale": [
             [
              0,
              "#0d0887"
             ],
             [
              0.1111111111111111,
              "#46039f"
             ],
             [
              0.2222222222222222,
              "#7201a8"
             ],
             [
              0.3333333333333333,
              "#9c179e"
             ],
             [
              0.4444444444444444,
              "#bd3786"
             ],
             [
              0.5555555555555556,
              "#d8576b"
             ],
             [
              0.6666666666666666,
              "#ed7953"
             ],
             [
              0.7777777777777778,
              "#fb9f3a"
             ],
             [
              0.8888888888888888,
              "#fdca26"
             ],
             [
              1,
              "#f0f921"
             ]
            ],
            "type": "histogram2dcontour"
           }
          ],
          "mesh3d": [
           {
            "colorbar": {
             "outlinewidth": 0,
             "ticks": ""
            },
            "type": "mesh3d"
           }
          ],
          "parcoords": [
           {
            "line": {
             "colorbar": {
              "outlinewidth": 0,
              "ticks": ""
             }
            },
            "type": "parcoords"
           }
          ],
          "pie": [
           {
            "automargin": true,
            "type": "pie"
           }
          ],
          "scatter": [
           {
            "marker": {
             "line": {
              "color": "#283442"
             }
            },
            "type": "scatter"
           }
          ],
          "scatter3d": [
           {
            "line": {
             "colorbar": {
              "outlinewidth": 0,
              "ticks": ""
             }
            },
            "marker": {
             "colorbar": {
              "outlinewidth": 0,
              "ticks": ""
             }
            },
            "type": "scatter3d"
           }
          ],
          "scattercarpet": [
           {
            "marker": {
             "colorbar": {
              "outlinewidth": 0,
              "ticks": ""
             }
            },
            "type": "scattercarpet"
           }
          ],
          "scattergeo": [
           {
            "marker": {
             "colorbar": {
              "outlinewidth": 0,
              "ticks": ""
             }
            },
            "type": "scattergeo"
           }
          ],
          "scattergl": [
           {
            "marker": {
             "line": {
              "color": "#283442"
             }
            },
            "type": "scattergl"
           }
          ],
          "scattermapbox": [
           {
            "marker": {
             "colorbar": {
              "outlinewidth": 0,
              "ticks": ""
             }
            },
            "type": "scattermapbox"
           }
          ],
          "scatterpolar": [
           {
            "marker": {
             "colorbar": {
              "outlinewidth": 0,
              "ticks": ""
             }
            },
            "type": "scatterpolar"
           }
          ],
          "scatterpolargl": [
           {
            "marker": {
             "colorbar": {
              "outlinewidth": 0,
              "ticks": ""
             }
            },
            "type": "scatterpolargl"
           }
          ],
          "scatterternary": [
           {
            "marker": {
             "colorbar": {
              "outlinewidth": 0,
              "ticks": ""
             }
            },
            "type": "scatterternary"
           }
          ],
          "surface": [
           {
            "colorbar": {
             "outlinewidth": 0,
             "ticks": ""
            },
            "colorscale": [
             [
              0,
              "#0d0887"
             ],
             [
              0.1111111111111111,
              "#46039f"
             ],
             [
              0.2222222222222222,
              "#7201a8"
             ],
             [
              0.3333333333333333,
              "#9c179e"
             ],
             [
              0.4444444444444444,
              "#bd3786"
             ],
             [
              0.5555555555555556,
              "#d8576b"
             ],
             [
              0.6666666666666666,
              "#ed7953"
             ],
             [
              0.7777777777777778,
              "#fb9f3a"
             ],
             [
              0.8888888888888888,
              "#fdca26"
             ],
             [
              1,
              "#f0f921"
             ]
            ],
            "type": "surface"
           }
          ],
          "table": [
           {
            "cells": {
             "fill": {
              "color": "#506784"
             },
             "line": {
              "color": "rgb(17,17,17)"
             }
            },
            "header": {
             "fill": {
              "color": "#2a3f5f"
             },
             "line": {
              "color": "rgb(17,17,17)"
             }
            },
            "type": "table"
           }
          ]
         },
         "layout": {
          "annotationdefaults": {
           "arrowcolor": "#f2f5fa",
           "arrowhead": 0,
           "arrowwidth": 1
          },
          "autotypenumbers": "strict",
          "coloraxis": {
           "colorbar": {
            "outlinewidth": 0,
            "ticks": ""
           }
          },
          "colorscale": {
           "diverging": [
            [
             0,
             "#8e0152"
            ],
            [
             0.1,
             "#c51b7d"
            ],
            [
             0.2,
             "#de77ae"
            ],
            [
             0.3,
             "#f1b6da"
            ],
            [
             0.4,
             "#fde0ef"
            ],
            [
             0.5,
             "#f7f7f7"
            ],
            [
             0.6,
             "#e6f5d0"
            ],
            [
             0.7,
             "#b8e186"
            ],
            [
             0.8,
             "#7fbc41"
            ],
            [
             0.9,
             "#4d9221"
            ],
            [
             1,
             "#276419"
            ]
           ],
           "sequential": [
            [
             0,
             "#0d0887"
            ],
            [
             0.1111111111111111,
             "#46039f"
            ],
            [
             0.2222222222222222,
             "#7201a8"
            ],
            [
             0.3333333333333333,
             "#9c179e"
            ],
            [
             0.4444444444444444,
             "#bd3786"
            ],
            [
             0.5555555555555556,
             "#d8576b"
            ],
            [
             0.6666666666666666,
             "#ed7953"
            ],
            [
             0.7777777777777778,
             "#fb9f3a"
            ],
            [
             0.8888888888888888,
             "#fdca26"
            ],
            [
             1,
             "#f0f921"
            ]
           ],
           "sequentialminus": [
            [
             0,
             "#0d0887"
            ],
            [
             0.1111111111111111,
             "#46039f"
            ],
            [
             0.2222222222222222,
             "#7201a8"
            ],
            [
             0.3333333333333333,
             "#9c179e"
            ],
            [
             0.4444444444444444,
             "#bd3786"
            ],
            [
             0.5555555555555556,
             "#d8576b"
            ],
            [
             0.6666666666666666,
             "#ed7953"
            ],
            [
             0.7777777777777778,
             "#fb9f3a"
            ],
            [
             0.8888888888888888,
             "#fdca26"
            ],
            [
             1,
             "#f0f921"
            ]
           ]
          },
          "colorway": [
           "#636efa",
           "#EF553B",
           "#00cc96",
           "#ab63fa",
           "#FFA15A",
           "#19d3f3",
           "#FF6692",
           "#B6E880",
           "#FF97FF",
           "#FECB52"
          ],
          "font": {
           "color": "#f2f5fa"
          },
          "geo": {
           "bgcolor": "rgb(17,17,17)",
           "lakecolor": "rgb(17,17,17)",
           "landcolor": "rgb(17,17,17)",
           "showlakes": true,
           "showland": true,
           "subunitcolor": "#506784"
          },
          "hoverlabel": {
           "align": "left"
          },
          "hovermode": "closest",
          "mapbox": {
           "style": "dark"
          },
          "paper_bgcolor": "rgb(17,17,17)",
          "plot_bgcolor": "rgb(17,17,17)",
          "polar": {
           "angularaxis": {
            "gridcolor": "#506784",
            "linecolor": "#506784",
            "ticks": ""
           },
           "bgcolor": "rgb(17,17,17)",
           "radialaxis": {
            "gridcolor": "#506784",
            "linecolor": "#506784",
            "ticks": ""
           }
          },
          "scene": {
           "xaxis": {
            "backgroundcolor": "rgb(17,17,17)",
            "gridcolor": "#506784",
            "gridwidth": 2,
            "linecolor": "#506784",
            "showbackground": true,
            "ticks": "",
            "zerolinecolor": "#C8D4E3"
           },
           "yaxis": {
            "backgroundcolor": "rgb(17,17,17)",
            "gridcolor": "#506784",
            "gridwidth": 2,
            "linecolor": "#506784",
            "showbackground": true,
            "ticks": "",
            "zerolinecolor": "#C8D4E3"
           },
           "zaxis": {
            "backgroundcolor": "rgb(17,17,17)",
            "gridcolor": "#506784",
            "gridwidth": 2,
            "linecolor": "#506784",
            "showbackground": true,
            "ticks": "",
            "zerolinecolor": "#C8D4E3"
           }
          },
          "shapedefaults": {
           "line": {
            "color": "#f2f5fa"
           }
          },
          "sliderdefaults": {
           "bgcolor": "#C8D4E3",
           "bordercolor": "rgb(17,17,17)",
           "borderwidth": 1,
           "tickwidth": 0
          },
          "ternary": {
           "aaxis": {
            "gridcolor": "#506784",
            "linecolor": "#506784",
            "ticks": ""
           },
           "baxis": {
            "gridcolor": "#506784",
            "linecolor": "#506784",
            "ticks": ""
           },
           "bgcolor": "rgb(17,17,17)",
           "caxis": {
            "gridcolor": "#506784",
            "linecolor": "#506784",
            "ticks": ""
           }
          },
          "title": {
           "x": 0.05
          },
          "updatemenudefaults": {
           "bgcolor": "#506784",
           "borderwidth": 0
          },
          "xaxis": {
           "automargin": true,
           "gridcolor": "#283442",
           "linecolor": "#506784",
           "ticks": "",
           "title": {
            "standoff": 15
           },
           "zerolinecolor": "#283442",
           "zerolinewidth": 2
          },
          "yaxis": {
           "automargin": true,
           "gridcolor": "#283442",
           "linecolor": "#506784",
           "ticks": "",
           "title": {
            "standoff": 15
           },
           "zerolinecolor": "#283442",
           "zerolinewidth": 2
          }
         }
        },
        "title": {
         "text": "Clustering Customer Segmentation"
        },
        "xaxis": {
         "anchor": "y",
         "domain": [
          0,
          1
         ],
         "title": {
          "text": "TotalAmount"
         }
        },
        "yaxis": {
         "anchor": "x",
         "domain": [
          0,
          1
         ],
         "title": {
          "text": "Qty"
         }
        }
       }
      }
     },
     "metadata": {},
     "output_type": "display_data"
    }
   ],
   "source": [
    "fig = px.scatter(pycaret_prediction, x='TotalAmount', y='Qty', color='Cluster', title='Clustering Customer Segmentation', template='plotly_dark')\n",
    "fig.show()"
   ]
  },
  {
   "cell_type": "code",
   "execution_count": 112,
   "metadata": {},
   "outputs": [
    {
     "data": {
      "image/png": "[encoded data removed]",
      "text/plain": [
       "<Figure size 648x432 with 1 Axes>"
      ]
     },
     "metadata": {
      "needs_background": "light"
     },
     "output_type": "display_data"
    }
   ],
   "source": [
    "sns.scatterplot(data=pycaret_prediction, x='TotalAmount', y='Qty', hue='Cluster', palette='pastel')\n",
    "plt.gcf().set_size_inches(9, 6)\n",
    "plt.show()"
   ]
  }
 ],
 "metadata": {
  "kernelspec": {
   "display_name": "Pycaret2",
   "language": "python",
   "name": "python3"
  },
  "language_info": {
   "codemirror_mode": {
    "name": "ipython",
    "version": 3
   },
   "file_extension": ".py",
   "mimetype": "text/x-python",
   "name": "python",
   "nbconvert_exporter": "python",
   "pygments_lexer": "ipython3",
   "version": "3.10.9"
  },
  "orig_nbformat": 4
 },
 "nbformat": 4,
 "nbformat_minor": 2
}
